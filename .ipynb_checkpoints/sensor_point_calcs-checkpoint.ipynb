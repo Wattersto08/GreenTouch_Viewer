{
 "cells": [
  {
   "cell_type": "markdown",
   "metadata": {},
   "source": [
    "# Sensor point calculations \n",
    "\n",
    "for generating the sensor point matrix for all polygon type objects \n",
    "\n",
    "### TODO:\n",
    "\n",
    "- [ ] fix point interpolation (quirk at 9)\n",
    "- [ ] implement polygon bounding for required points within it \n",
    "- [ ] save down to mySQL\n"
   ]
  },
  {
   "cell_type": "code",
   "execution_count": 1,
   "metadata": {},
   "outputs": [],
   "source": [
    "import folium as f \n",
    "import kml_parser_functs as kml\n",
    "import map_functs as mf \n",
    "import math \n",
    "import matplotlib.pyplot as plt\n",
    "from shapely.geometry import Point, Polygon"
   ]
  },
  {
   "cell_type": "code",
   "execution_count": 2,
   "metadata": {},
   "outputs": [],
   "source": [
    "filename = 'GoogleEarth_KML/Bodium_Vineyard.kml'"
   ]
  },
  {
   "cell_type": "code",
   "execution_count": 3,
   "metadata": {},
   "outputs": [
    {
     "name": "stdout",
     "output_type": "stream",
     "text": [
      "Bodium_Vineyard\n"
     ]
    }
   ],
   "source": [
    "\n",
    "name,lookat, features = kml.parse_KML(filename)\n",
    "\n",
    "\n",
    "\n",
    "feature = features[0]\n",
    "print(name)"
   ]
  },
  {
   "cell_type": "code",
   "execution_count": 4,
   "metadata": {},
   "outputs": [],
   "source": [
    "def rotate(origin, point, angle):\n",
    "    ox, oy = origin\n",
    "    px, py = point\n",
    "\n",
    "    qx = ox + math.cos(angle) * (px - ox) - math.sin(angle) * (py - oy)\n",
    "    qy = oy + math.sin(angle) * (px - ox) + math.cos(angle) * (py - oy)\n",
    "    return qx, qy"
   ]
  },
  {
   "cell_type": "code",
   "execution_count": 5,
   "metadata": {},
   "outputs": [],
   "source": [
    "def calc_matrix(obj):\n",
    "    \n",
    "    matrix = []\n",
    "    matrix_rotated = []\n",
    "    \n",
    "    opx = [obj.limits[0][0]]\n",
    "    opy = [obj.limits[0][1]]\n",
    "    \n",
    "    stepX = (obj.limits[1][0] - obj.limits[0][0])/obj.matrix_res\n",
    "    stepY = (obj.limits[1][1] - obj.limits[0][1])/obj.matrix_res\n",
    "      \n",
    "    for j in range(1,obj.matrix_res):\n",
    "        opy.append(obj.limits[0][1]+(stepY*j))\n",
    "        opx.append(obj.limits[0][0]+(stepX*j))\n",
    "        \n",
    "    opx.append(obj.limits[1][0])\n",
    "    opy.append(obj.limits[1][1])\n",
    "    \n",
    "    for x in opx:\n",
    "        for y in opy:\n",
    "            matrix.append([x,y])\n",
    "    \n",
    "    for point in matrix:\n",
    "        matrix_rotated.append(rotate(obj.midpoint ,point, -math.radians(obj.crop_bearing)))\n",
    "         \n",
    "    return matrix_rotated \n",
    "    \n",
    "    \n",
    "mr = calc_matrix(features[0]) "
   ]
  },
  {
   "cell_type": "code",
   "execution_count": 6,
   "metadata": {},
   "outputs": [],
   "source": [
    "def calc_matrix(limits,matrix_res,midpoint,crop_bearing):\n",
    "    \n",
    "    matrix = []\n",
    "    matrix_rotated = []\n",
    "    \n",
    "    opx = [limits[0][0]]\n",
    "    opy = [limits[0][1]]\n",
    "    \n",
    "    stepX = (limits[1][0] - limits[0][0])/matrix_res\n",
    "    stepY = (limits[1][1] - limits[0][1])/matrix_res\n",
    "      \n",
    "    for j in range(1,matrix_res):\n",
    "        opy.append(limits[0][1]+(stepY*j))\n",
    "        opx.append(limits[0][0]+(stepX*j))\n",
    "        \n",
    "    opx.append(limits[1][0])\n",
    "    opy.append(limits[1][1])\n",
    "    \n",
    "    for x in opx:\n",
    "        for y in opy:\n",
    "            matrix.append([x,y])\n",
    "    \n",
    "    for point in matrix:\n",
    "        matrix_rotated.append(rotate(midpoint ,point, -math.radians(crop_bearing)))\n",
    "         \n",
    "    return matrix_rotated \n",
    "    \n",
    "    \n",
    "mr = calc_matrix(feature.limits,feature.matrix_res,feature.midpoint,feature.crop_bearing) "
   ]
  },
  {
   "cell_type": "code",
   "execution_count": 7,
   "metadata": {},
   "outputs": [
    {
     "name": "stdout",
     "output_type": "stream",
     "text": [
      "(51.00343665843624, 0.5435167364179208)\n",
      "(51.00358555710355, 0.5443611827227618)\n",
      "(51.00373445577085, 0.5452056290276028)\n",
      "(51.00388335443815, 0.546050075332444)\n",
      "(51.00403225310546, 0.546894521637285)\n",
      "(51.004181151772755, 0.5477389679421261)\n",
      "(51.003816632718525, 0.5434497366999782)\n",
      "(51.00396553138583, 0.5442941830048192)\n",
      "(51.00411443005313, 0.5451386293096603)\n",
      "(51.004263328720434, 0.5459830756145014)\n",
      "(51.00441222738774, 0.5468275219193425)\n",
      "(51.00456112605504, 0.5476719682241835)\n",
      "(51.004196607000814, 0.5433827369820355)\n",
      "(51.00434550566812, 0.5442271832868766)\n",
      "(51.00449440433542, 0.5450716295917176)\n",
      "(51.00464330300272, 0.5459160758965588)\n",
      "(51.00479220167003, 0.5467605222013998)\n",
      "(51.00494110033733, 0.5476049685062409)\n",
      "(51.004576581283104, 0.543315737264093)\n",
      "(51.00472547995041, 0.544160183568934)\n",
      "(51.00487437861771, 0.5450046298737751)\n",
      "(51.00502327728501, 0.5458490761786162)\n",
      "(51.00517217595232, 0.5466935224834573)\n",
      "(51.005321074619616, 0.5475379687882983)\n",
      "(51.00495655556539, 0.5432487375461503)\n",
      "(51.0051054542327, 0.5440931838509914)\n",
      "(51.005254352899996, 0.5449376301558324)\n",
      "(51.0054032515673, 0.5457820764606736)\n",
      "(51.00555215023461, 0.5466265227655146)\n",
      "(51.005701048901905, 0.5474709690703556)\n",
      "(51.005336529847675, 0.5431817378282078)\n",
      "(51.00548542851498, 0.5440261841330488)\n",
      "(51.00563432718228, 0.5448706304378899)\n",
      "(51.005783225849584, 0.545715076742731)\n",
      "(51.00593212451689, 0.546559523047572)\n",
      "(51.00608102318419, 0.5474039693524131)\n"
     ]
    },
    {
     "data": {
      "image/png": "[encoded data removed]",
      "text/plain": [
       "<Figure size 432x288 with 1 Axes>"
      ]
     },
     "metadata": {
      "needs_background": "light"
     },
     "output_type": "display_data"
    }
   ],
   "source": [
    "import matplotlib.pyplot as plt\n",
    "import numpy as np\n",
    "\n",
    "x = []\n",
    "y = []\n",
    "for p in mr: \n",
    "\n",
    "    x.append(p[0])\n",
    "    y.append(p[1])\n",
    "    print(p)\n",
    "\n",
    "    \n",
    "xr = np.array(x)\n",
    "yr = np.array(y)\n",
    "plt.scatter(x, y)\n",
    "\n",
    "\n",
    "plt.show()"
   ]
  },
  {
   "cell_type": "code",
   "execution_count": 8,
   "metadata": {},
   "outputs": [],
   "source": [
    "\n",
    "testcoords = features[0].coords\n",
    "\n",
    "x = []\n",
    "y = []\n",
    "\n",
    "for coord in testcoords:\n",
    "    x.append(coord[1])\n",
    "    y.append(coord[0])\n",
    "    \n",
    "\n",
    "poly_x = np.array(x)\n",
    "poly_y = np.array(y)\n",
    "\n",
    "\n"
   ]
  },
  {
   "cell_type": "code",
   "execution_count": 9,
   "metadata": {},
   "outputs": [
    {
     "data": {
      "image/png": "[encoded data removed]",
      "text/plain": [
       "<Figure size 432x288 with 1 Axes>"
      ]
     },
     "metadata": {
      "needs_background": "light"
     },
     "output_type": "display_data"
    }
   ],
   "source": [
    "\n",
    "plt.plot(poly_x,poly_y)\n",
    "plt.scatter(yr, xr)\n",
    "plt.show()\n"
   ]
  },
  {
   "cell_type": "code",
   "execution_count": 10,
   "metadata": {},
   "outputs": [
    {
     "data": {
      "text/plain": [
       "[[51.00551148675169, 0.5432519630088373],\n",
       " [51.00519707830968, 0.5433278022626542],\n",
       " [51.00373157396675, 0.5441204659816967],\n",
       " [51.00468954312075, 0.5475393292600583],\n",
       " [51.00537919925254, 0.5470359303678474],\n",
       " [51.00566075395709, 0.5469611438889976],\n",
       " [51.00551148675169, 0.5432519630088373]]"
      ]
     },
     "execution_count": 10,
     "metadata": {},
     "output_type": "execute_result"
    }
   ],
   "source": [
    "testcoords"
   ]
  },
  {
   "cell_type": "code",
   "execution_count": 11,
   "metadata": {},
   "outputs": [],
   "source": [
    "poly = Polygon(testcoords)"
   ]
  },
  {
   "cell_type": "code",
   "execution_count": 12,
   "metadata": {},
   "outputs": [],
   "source": [
    "op_matrix = []\n",
    "for mp in mr:\n",
    "    p = Point(mp[0],mp[1])\n",
    "    if p.within(poly):\n",
    "        op_matrix.append(mp)\n",
    "\n",
    "\n",
    "x = []\n",
    "y = []\n",
    "\n",
    "for coord in op_matrix:\n",
    "    x.append(coord[1])\n",
    "    y.append(coord[0])\n",
    "    \n",
    "\n",
    "op_x = np.array(x)\n",
    "op_y = np.array(y)\n"
   ]
  },
  {
   "cell_type": "code",
   "execution_count": 13,
   "metadata": {},
   "outputs": [
    {
     "data": {
      "image/png": "[encoded data removed]",
      "text/plain": [
       "<Figure size 432x288 with 1 Axes>"
      ]
     },
     "metadata": {
      "needs_background": "light"
     },
     "output_type": "display_data"
    }
   ],
   "source": [
    "plt.plot(poly_x,poly_y)\n",
    "plt.scatter(op_x, op_y)\n",
    "plt.show()"
   ]
  },
  {
   "cell_type": "code",
   "execution_count": 14,
   "metadata": {},
   "outputs": [
    {
     "data": {
      "text/plain": [
       "16"
      ]
     },
     "execution_count": 14,
     "metadata": {},
     "output_type": "execute_result"
    }
   ],
   "source": [
    "len(op_y)"
   ]
  },
  {
   "cell_type": "code",
   "execution_count": 15,
   "metadata": {},
   "outputs": [],
   "source": [
    "import matrixmath as mm"
   ]
  },
  {
   "cell_type": "code",
   "execution_count": 16,
   "metadata": {},
   "outputs": [
    {
     "name": "stdout",
     "output_type": "stream",
     "text": [
      "Field 1 - white_grape\n"
     ]
    }
   ],
   "source": [
    "print(feature)"
   ]
  },
  {
   "cell_type": "code",
   "execution_count": 17,
   "metadata": {},
   "outputs": [
    {
     "data": {
      "text/plain": [
       "[(51.00343665843624, 0.5435167364179208),\n",
       " (51.00358555710355, 0.5443611827227618),\n",
       " (51.00373445577085, 0.5452056290276028),\n",
       " (51.00388335443815, 0.546050075332444),\n",
       " (51.00403225310546, 0.546894521637285),\n",
       " (51.004181151772755, 0.5477389679421261),\n",
       " (51.003816632718525, 0.5434497366999782),\n",
       " (51.00396553138583, 0.5442941830048192),\n",
       " (51.00411443005313, 0.5451386293096603),\n",
       " (51.004263328720434, 0.5459830756145014),\n",
       " (51.00441222738774, 0.5468275219193425),\n",
       " (51.00456112605504, 0.5476719682241835),\n",
       " (51.004196607000814, 0.5433827369820355),\n",
       " (51.00434550566812, 0.5442271832868766),\n",
       " (51.00449440433542, 0.5450716295917176),\n",
       " (51.00464330300272, 0.5459160758965588),\n",
       " (51.00479220167003, 0.5467605222013998),\n",
       " (51.00494110033733, 0.5476049685062409),\n",
       " (51.004576581283104, 0.543315737264093),\n",
       " (51.00472547995041, 0.544160183568934),\n",
       " (51.00487437861771, 0.5450046298737751),\n",
       " (51.00502327728501, 0.5458490761786162),\n",
       " (51.00517217595232, 0.5466935224834573),\n",
       " (51.005321074619616, 0.5475379687882983),\n",
       " (51.00495655556539, 0.5432487375461503),\n",
       " (51.0051054542327, 0.5440931838509914),\n",
       " (51.005254352899996, 0.5449376301558324),\n",
       " (51.0054032515673, 0.5457820764606736),\n",
       " (51.00555215023461, 0.5466265227655146),\n",
       " (51.005701048901905, 0.5474709690703556),\n",
       " (51.005336529847675, 0.5431817378282078),\n",
       " (51.00548542851498, 0.5440261841330488),\n",
       " (51.00563432718228, 0.5448706304378899),\n",
       " (51.005783225849584, 0.545715076742731),\n",
       " (51.00593212451689, 0.546559523047572),\n",
       " (51.00608102318419, 0.5474039693524131)]"
      ]
     },
     "execution_count": 17,
     "metadata": {},
     "output_type": "execute_result"
    }
   ],
   "source": [
    "feature.matrix_coords = mm.calc_matrix(feature.limits,feature.matrix_res,feature.midpoint,feature.crop_bearing)\n",
    "\n",
    "feature.matrix_coords\n",
    "\n"
   ]
  },
  {
   "cell_type": "code",
   "execution_count": 18,
   "metadata": {},
   "outputs": [],
   "source": [
    "def check_within_poly(coords, matrix_coords):\n",
    "    poly = Polygon(coords)\n",
    "\n",
    "    op_matrix = []\n",
    "    for matrix_point in matrix_coords:\n",
    "        p = Point(matrix_point[0],matrix_point[1])\n",
    "        if p.within(poly):\n",
    "            op_matrix.append(matrix_point)\n",
    "\n",
    "    return op_matrix\n",
    "\n",
    "\n",
    "OP_matrix = check_within_poly(feature.coords, feature.matrix_coords)\n",
    "            \n",
    "x = []\n",
    "y = []\n",
    "\n",
    "for coord in OP_matrix:\n",
    "    x.append(coord[1])\n",
    "    y.append(coord[0])\n",
    "\n",
    "\n",
    "op_x = np.array(x)\n",
    "op_y = np.array(y)"
   ]
  },
  {
   "cell_type": "code",
   "execution_count": 19,
   "metadata": {},
   "outputs": [
    {
     "data": {
      "text/plain": [
       "16"
      ]
     },
     "execution_count": 19,
     "metadata": {},
     "output_type": "execute_result"
    }
   ],
   "source": [
    "len(op_x)"
   ]
  },
  {
   "cell_type": "code",
   "execution_count": 20,
   "metadata": {},
   "outputs": [
    {
     "data": {
      "image/png": "[encoded data removed]",
      "text/plain": [
       "<Figure size 432x288 with 1 Axes>"
      ]
     },
     "metadata": {
      "needs_background": "light"
     },
     "output_type": "display_data"
    }
   ],
   "source": [
    "plt.plot(poly_x,poly_y)\n",
    "plt.scatter(op_x, op_y)\n",
    "plt.show()"
   ]
  },
  {
   "cell_type": "code",
   "execution_count": 21,
   "metadata": {},
   "outputs": [
    {
     "name": "stdout",
     "output_type": "stream",
     "text": [
      "false\n",
      "false\n",
      "false\n",
      "false\n",
      "false\n",
      "false\n",
      "false\n",
      "true\n",
      "true\n",
      "true\n",
      "false\n",
      "false\n",
      "false\n",
      "true\n",
      "true\n",
      "true\n",
      "true\n",
      "false\n",
      "false\n",
      "true\n",
      "true\n",
      "true\n",
      "true\n",
      "false\n",
      "false\n",
      "true\n",
      "true\n",
      "true\n",
      "true\n",
      "false\n",
      "false\n",
      "true\n",
      "false\n",
      "false\n",
      "false\n",
      "false\n"
     ]
    }
   ],
   "source": [
    "OP_matrix = mm.check_within_poly(feature.coords,mm.calc_matrix(feature.limits,feature.matrix_res,feature.midpoint,feature.crop_bearing))"
   ]
  },
  {
   "cell_type": "code",
   "execution_count": 22,
   "metadata": {},
   "outputs": [
    {
     "data": {
      "text/plain": [
       "16"
      ]
     },
     "execution_count": 22,
     "metadata": {},
     "output_type": "execute_result"
    }
   ],
   "source": [
    "len(OP_matrix)"
   ]
  },
  {
   "cell_type": "code",
   "execution_count": 23,
   "metadata": {},
   "outputs": [
    {
     "data": {
      "image/png": "[encoded data removed]",
      "text/plain": [
       "<Figure size 432x288 with 1 Axes>"
      ]
     },
     "metadata": {
      "needs_background": "light"
     },
     "output_type": "display_data"
    }
   ],
   "source": [
    "x = []\n",
    "y = []\n",
    "\n",
    "for coord in feature.matrix_coords:\n",
    "    x.append(coord[1])\n",
    "    y.append(coord[0])\n",
    "\n",
    "\n",
    "op_x = np.array(x)\n",
    "op_y = np.array(y)\n",
    "\n",
    "plt.plot(poly_x,poly_y)\n",
    "plt.scatter(op_x, op_y)\n",
    "plt.show()"
   ]
  },
  {
   "cell_type": "code",
   "execution_count": 24,
   "metadata": {},
   "outputs": [
    {
     "data": {
      "image/png": "[encoded data removed]",
      "text/plain": [
       "<Figure size 432x288 with 1 Axes>"
      ]
     },
     "metadata": {
      "needs_background": "light"
     },
     "output_type": "display_data"
    }
   ],
   "source": [
    "x = []\n",
    "y = []\n",
    "\n",
    "for coord in feature.matrix_coords:\n",
    "    x.append(coord[1])\n",
    "    y.append(coord[0])\n",
    "\n",
    "\n",
    "op_x = np.array(x)\n",
    "op_y = np.array(y)\n",
    "\n",
    "plt.plot(poly_x,poly_y)\n",
    "plt.scatter(op_x, op_y)\n",
    "plt.show()"
   ]
  }
 ],
 "metadata": {
  "kernelspec": {
   "display_name": "Python 3",
   "language": "python",
   "name": "python3"
  },
  "language_info": {
   "codemirror_mode": {
    "name": "ipython",
    "version": 3
   },
   "file_extension": ".py",
   "mimetype": "text/x-python",
   "name": "python",
   "nbconvert_exporter": "python",
   "pygments_lexer": "ipython3",
   "version": "3.8.5"
  }
 },
 "nbformat": 4,
 "nbformat_minor": 4
}
