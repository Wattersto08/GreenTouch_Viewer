{
 "cells": [
  {
   "cell_type": "code",
   "execution_count": null,
   "metadata": {},
   "outputs": [],
   "source": [
    "# Params\n",
    "filename = 'GoogleEarth_KML/Bodium_Vineyard.kml'"
   ]
  },
  {
   "cell_type": "code",
   "execution_count": 2,
   "metadata": {},
   "outputs": [
    {
     "name": "stdout",
     "output_type": "stream",
     "text": [
      "Bodium_Vineyard\n"
     ]
    }
   ],
   "source": [
    "# lib funct test \n",
    "import kml_parser_functs as kml\n",
    "\n",
    "name, testop = kml.parse_KML(filename)\n",
    "\n",
    "\n",
    "print(name)\n"
   ]
  },
  {
   "cell_type": "code",
   "execution_count": 3,
   "metadata": {},
   "outputs": [
    {
     "name": "stdout",
     "output_type": "stream",
     "text": [
      "Field 4\n",
      "polygon\n",
      "lightgreen\n",
      "[['0.5471587780880038', '51.00588253816051'], ['0.5472104269648592', '51.00544061279552'], ['0.5476620186223879', '51.00482493968954'], ['0.5479235478787792', '51.00471608496273'], ['0.5486116780876138', '51.0040057500163'], ['0.5489171587623298', '51.00340049475254'], ['0.5498821917570251', '51.00361641989288'], ['0.550470167896302', '51.00360815084125'], ['0.5513059029481848', '51.00371225017951'], ['0.5499917764223472', '51.00621747942344'], ['0.5471587780880038', '51.00588253816051']]\n",
      "None\n"
     ]
    }
   ],
   "source": [
    "print(testop[3].dumpdata())"
   ]
  },
  {
   "cell_type": "code",
   "execution_count": 4,
   "metadata": {},
   "outputs": [],
   "source": [
    "# Imports\n",
    "\n",
    "import pandas as pd\n",
    "import random as rd\n",
    "import bs4 as bs\n",
    "from bs4 import BeautifulSoup"
   ]
  },
  {
   "cell_type": "code",
   "execution_count": 5,
   "metadata": {},
   "outputs": [],
   "source": [
    "\n",
    "def parse_coord_string(coord_string):\n",
    "    longitudes = []\n",
    "    latitudes = []\n",
    "\n",
    "    coord_string = coord_string.replace('\\n','')\n",
    "    coord_string = coord_string.replace('\\t','')\n",
    "    coord_string = coord_string.replace(' ',',')\n",
    "    coord_string = coord_string[:-1]\n",
    "    coords = coord_string.split(',')\n",
    "\n",
    "\n",
    "    for i in range(0,len(coords),3):\n",
    "        longitudes.append(coords[i])\n",
    "    for i in range(1,len(coords),3):\n",
    "        latitudes.append(coords[i])\n",
    "        \n",
    "    op = []\n",
    "    for i in range(len(longitudes)):\n",
    "        op.append([latitudes[i],longitudes[i]])\n",
    "    \n",
    "    return op"
   ]
  },
  {
   "cell_type": "code",
   "execution_count": 6,
   "metadata": {},
   "outputs": [],
   "source": [
    "\n",
    "\n",
    "\n",
    "def parse_KML(filename):\n",
    "    file = open(filename, \"r\")\n",
    "    contents = file.read()\n",
    "    soup = BeautifulSoup(contents, 'xml')\n",
    "    names = soup.find_all('name')\n",
    "\n",
    "    features = soup.find_all('Placemark')\n",
    "\n",
    "    #process names\n",
    "    project_name = str(names[0])[10:-11]\n",
    "\n",
    "    featurenames = []\n",
    "    coordslist = []\n",
    "    featuretype = []\n",
    "\n",
    "    for feature in features:\n",
    "        featurenames.append(str(feature.find_all('name'))[11:-12])\n",
    "        coordslist.append(parse_coord_string(feature.coordinates.text))\n",
    "\n",
    "        if feature.find('Polygon'):\n",
    "            featuretype.append('polygon')\n",
    "\n",
    "        if feature.find('Point'):\n",
    "            featuretype.append('Point')\n",
    "\n",
    "        if feature.find('LineString'):\n",
    "            featuretype.append('LineString')\n",
    "        \n",
    "    return project_name,featurenames,coordslist,featuretype\n"
   ]
  },
  {
   "cell_type": "code",
   "execution_count": 7,
   "metadata": {},
   "outputs": [],
   "source": [
    "project_name,featurenames,coordslist,featuretype = parse_KML(filename)"
   ]
  },
  {
   "cell_type": "code",
   "execution_count": 8,
   "metadata": {},
   "outputs": [
    {
     "name": "stdout",
     "output_type": "stream",
     "text": [
      "Bodium_Vineyard\n",
      "\n",
      "Field 1\n",
      "polygon\n",
      "[['51.00551148675169', '0.5432519630088373'], ['51.00519707830968', '0.5433278022626542'], ['51.00373157396675', '0.5441204659816967'], ['51.00468954312075', '0.5475393292600583'], ['51.00537919925254', '0.5470359303678474'], ['51.00566075395709', '0.5469611438889976'], ['51.00551148675169', '0.5432519630088373']]\n",
      "\n",
      "Field 2\n",
      "polygon\n",
      "[['51.00466568990596', '0.5416669906184834'], ['51.00416778147363', '0.541887079688852'], ['51.00406188122092', '0.542010686044283'], ['51.00340933960138', '0.542318696097146'], ['51.00371036656391', '0.5439256521018088'], ['51.00514842606961', '0.5432088376892019'], ['51.00466568990596', '0.5416669906184834']]\n",
      "\n",
      "Field 3\n",
      "polygon\n",
      "[['51.00463863232355', '0.5477873997780658'], ['51.00450071852567', '0.5473222279209722'], ['51.00444106375798', '0.5470632180464641'], ['51.00417216477821', '0.5465327796544339'], ['51.00406202983782', '0.5457247146111954'], ['51.00367392993266', '0.5443321400104018'], ['51.00266683029383', '0.5451680317837204'], ['51.00276982553144', '0.5459779370792694'], ['51.00295098917098', '0.5465887644022716'], ['51.00323888394861', '0.5480688602589079'], ['51.00333174409786', '0.5487992708769962'], ['51.00400164622008', '0.5484166919382272'], ['51.00463863232355', '0.5477873997780658']]\n",
      "\n",
      "Field 4\n",
      "polygon\n",
      "[['51.00588253816051', '0.5471587780880038'], ['51.00544061279552', '0.5472104269648592'], ['51.00482493968954', '0.5476620186223879'], ['51.00471608496273', '0.5479235478787792'], ['51.0040057500163', '0.5486116780876138'], ['51.00340049475254', '0.5489171587623298'], ['51.00361641989288', '0.5498821917570251'], ['51.00360815084125', '0.550470167896302'], ['51.00371225017951', '0.5513059029481848'], ['51.00621747942344', '0.5499917764223472'], ['51.00588253816051', '0.5471587780880038']]\n",
      "\n",
      "Field 5\n",
      "polygon\n",
      "[['51.00369171137338', '0.5514986497487451'], ['51.00363715036467', '0.5527167528945953'], ['51.00367390066847', '0.552871911137609'], ['51.00367101724563', '0.5533126052199955'], ['51.00362836810881', '0.5535717242769667'], ['51.00358906362068', '0.5566288705456635'], ['51.00384396967707', '0.5563696225322268'], ['51.00427400452249', '0.555930168144847'], ['51.00457260483305', '0.5557391560820002'], ['51.00552448733593', '0.5553923507036651'], ['51.00575608855121', '0.5529370438792491'], ['51.00583705953825', '0.5520913312014808'], ['51.00603502508254', '0.5514112089171697'], ['51.00607165932743', '0.5509093364435302'], ['51.00575624919865', '0.5508714694390981'], ['51.00567348519956', '0.550504974875361'], ['51.00369171137338', '0.5514986497487451']]\n",
      "\n",
      "Barn 1\n",
      "Point\n",
      "[['51.00582142592069', '0.5505494133909883']]\n",
      "\n",
      "Field 4 Bearing\n",
      "LineString\n",
      "[['51.00467093483719', '0.5480129235940878'], ['51.00497530379979', '0.5506149760155776']]\n",
      "\n",
      "test road\n",
      "LineString\n",
      "[['51.00257868796057', '0.5452863199584557'], ['51.00265612444388', '0.5457954005746779'], ['51.00268088353761', '0.5459818899437652'], ['51.00286122086422', '0.5466036934197538'], ['51.00297549129698', '0.5473443259392274'], ['51.00307152275019', '0.5477345011667145'], ['51.00317940684496', '0.5485426258225479'], ['51.00340006839735', '0.5495067851801405'], ['51.00349911810671', '0.5500275227912321'], ['51.00348619080003', '0.5506972263638898'], ['51.00358002466746', '0.5512087493339313'], ['51.00349305604379', '0.5567734236427557']]\n",
      "\n",
      "OOB_testsquare\n",
      "polygon\n",
      "[['51.00183431188619', '0.5481112772923735'], ['51.0021946580362', '0.5497842449350521'], ['51.00284979948304', '0.5494348538197724'], ['51.00258373857461', '0.5479136550233843'], ['51.00183431188619', '0.5481112772923735']]\n",
      "\n",
      "MAP_LowLim\n",
      "Point\n",
      "[['51.00154269913671', '0.5412234795859439']]\n",
      "\n",
      "MAP_HighLim\n",
      "Point\n",
      "[['51.00690494514861', '0.557478650672889']]\n"
     ]
    }
   ],
   "source": [
    "print(project_name)\n",
    "for i in range(len(featurenames)):\n",
    "    print()\n",
    "    print(featurenames[i])\n",
    "    print(featuretype[i])\n",
    "    print(coordslist[i])\n",
    "\n",
    "    \n"
   ]
  }
 ],
 "metadata": {
  "kernelspec": {
   "display_name": "Python 3",
   "language": "python",
   "name": "python3"
  },
  "language_info": {
   "codemirror_mode": {
    "name": "ipython",
    "version": 3
   },
   "file_extension": ".py",
   "mimetype": "text/x-python",
   "name": "python",
   "nbconvert_exporter": "python",
   "pygments_lexer": "ipython3",
   "version": "3.8.5"
  }
 },
 "nbformat": 4,
 "nbformat_minor": 4
}
