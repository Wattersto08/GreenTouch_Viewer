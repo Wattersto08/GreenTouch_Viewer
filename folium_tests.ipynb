{
 "cells": [
  {
   "cell_type": "code",
   "execution_count": null,
   "metadata": {},
   "outputs": [],
   "source": [
    "filename = 'GoogleEarth_KML/Bodium_Vineyard.kml'"
   ]
  },
  {
   "cell_type": "code",
   "execution_count": 29,
   "metadata": {},
   "outputs": [],
   "source": [
    "import folium as f \n",
    "import kml_parser_functs as kml\n",
    "import map_functs as mf \n",
    "import math "
   ]
  },
  {
   "cell_type": "code",
   "execution_count": 3,
   "metadata": {},
   "outputs": [
    {
     "name": "stdout",
     "output_type": "stream",
     "text": [
      "Bodium_Vineyard\n"
     ]
    }
   ],
   "source": [
    "\n",
    "\n",
    "name,lookat, features = kml.parse_KML(filename)\n",
    "\n",
    "\n",
    "print(name)\n"
   ]
  },
  {
   "cell_type": "code",
   "execution_count": 4,
   "metadata": {},
   "outputs": [],
   "source": [
    "# Render Map\n",
    "#m = f.Map(location=[51.05531670367141, 0.5354980472325033], zoom_start=15)\n",
    "\n",
    "#m = mf.generatemap(lookat[0])\n",
    "\n",
    "#mf.plot_features(features,m)\n",
    "#m"
   ]
  },
  {
   "cell_type": "code",
   "execution_count": null,
   "metadata": {},
   "outputs": [],
   "source": []
  },
  {
   "cell_type": "code",
   "execution_count": null,
   "metadata": {},
   "outputs": [],
   "source": []
  },
  {
   "cell_type": "code",
   "execution_count": null,
   "metadata": {},
   "outputs": [],
   "source": []
  },
  {
   "cell_type": "code",
   "execution_count": 5,
   "metadata": {},
   "outputs": [
    {
     "name": "stdout",
     "output_type": "stream",
     "text": [
      "polygon\n",
      "[[51.00373157396675, 0.5432519630088373], [51.00566075395709, 0.5475393292600583]]\n",
      "\n",
      "polygon\n",
      "[[51.00340933960138, 0.5416669906184834], [51.00514842606961, 0.5439256521018088]]\n",
      "\n",
      "polygon\n",
      "[[51.00266683029383, 0.5443321400104018], [51.00463863232355, 0.5487992708769962]]\n",
      "\n",
      "polygon\n",
      "[[51.00340049475254, 0.5471587780880038], [51.00621747942344, 0.5513059029481848]]\n",
      "\n",
      "polygon\n",
      "[[51.00358906362068, 0.550504974875361], [51.00607165932743, 0.5566288705456635]]\n",
      "\n",
      "Point\n",
      "(51.00582142592069, 0.5505494133909883)\n",
      "\n",
      "LineString\n",
      "[[51.00467093483719, 0.5480129235940878], [51.00497530379979, 0.5506149760155776]]\n",
      "\n",
      "LineString\n",
      "[[51.00257868796057, 0.5452863199584557], [51.00358002466746, 0.5567734236427557]]\n",
      "\n",
      "polygon\n",
      "[[51.00183431188619, 0.5479136550233843], [51.00284979948304, 0.5497842449350521]]\n",
      "\n",
      "Point\n",
      "(51.00154269913671, 0.5412234795859439)\n",
      "\n",
      "Point\n",
      "(51.00690494514861, 0.557478650672889)\n",
      "\n"
     ]
    }
   ],
   "source": [
    "for i in features:\n",
    "    print(i.Type)\n",
    "    print(i.limits)\n",
    "    \n",
    "    print()"
   ]
  },
  {
   "cell_type": "code",
   "execution_count": 11,
   "metadata": {},
   "outputs": [
    {
     "data": {
      "text/plain": [
       "[[51.00373157396675, 0.5432519630088373],\n",
       " [51.00566075395709, 0.5475393292600583]]"
      ]
     },
     "execution_count": 11,
     "metadata": {},
     "output_type": "execute_result"
    }
   ],
   "source": [
    "test = features[0].limits\n",
    "test"
   ]
  },
  {
   "cell_type": "code",
   "execution_count": 42,
   "metadata": {},
   "outputs": [],
   "source": [
    "feature = features[0]\n",
    "feature.crop_bearing = 45"
   ]
  },
  {
   "cell_type": "code",
   "execution_count": 43,
   "metadata": {},
   "outputs": [],
   "source": [
    "def rotate(origin, point, angle):\n",
    "    ox, oy = origin\n",
    "    px, py = point\n",
    "\n",
    "    qx = ox + math.cos(angle) * (px - ox) - math.sin(angle) * (py - oy)\n",
    "    qy = oy + math.sin(angle) * (px - ox) + math.cos(angle) * (py - oy)\n",
    "    return qx, qy"
   ]
  },
  {
   "cell_type": "code",
   "execution_count": 44,
   "metadata": {},
   "outputs": [],
   "source": [
    "def calc_matrix(obj):\n",
    "    \n",
    "    opx = [obj.limits[0][0]]\n",
    "    opy = [obj.limits[0][1]]\n",
    "    \n",
    "    stepX = (obj.limits[1][0] - obj.limits[0][0])/obj.matrix_res\n",
    "    stepY = (obj.limits[1][1] - obj.limits[0][1])/obj.matrix_res\n",
    "\n",
    "    for x in range(1,obj.matrix_res-1):\n",
    "        opx.append(obj.limits[0][0]+(stepX*x))\n",
    "    \n",
    "    for y in range(1,obj.matrix_res-1):\n",
    "        opy.append(obj.limits[0][1]+(stepY*y))\n",
    "\n",
    "    opx.append(obj.limits[1][0])\n",
    "    opy.append(obj.limits[1][1])\n",
    "    \n",
    "    matrix = []\n",
    "    for x in opx:\n",
    "        for y in opy:\n",
    "            matrix.append([x,y])\n",
    "    \n",
    "    \n",
    "    matrix_rotated = []\n",
    "    \n",
    "    for point in matrix:\n",
    "        matrix_rotated.append(rotate(obj.midpoint,point, math.radians(obj.crop_bearing)))\n",
    "        \n",
    "    \n",
    "    \n",
    "    return matrix, matrix_rotated \n",
    "    \n",
    "    \n",
    "m,mr = calc_matrix(feature) "
   ]
  },
  {
   "cell_type": "code",
   "execution_count": null,
   "metadata": {},
   "outputs": [],
   "source": []
  },
  {
   "cell_type": "code",
   "execution_count": 45,
   "metadata": {},
   "outputs": [
    {
     "data": {
      "image/png": "[encoded data removed]",
      "text/plain": [
       "<Figure size 432x288 with 1 Axes>"
      ]
     },
     "metadata": {
      "needs_background": "light"
     },
     "output_type": "display_data"
    }
   ],
   "source": [
    "import matplotlib.pyplot as plt\n",
    "import numpy as np\n",
    "\n",
    "#day one, the age and speed of 13 cars:\n",
    "\n",
    "x = []\n",
    "y = []\n",
    "for p in m: \n",
    "    x.append(p[0])\n",
    "    y.append(p[1])\n",
    "\n",
    "    \n",
    "x = np.array(x)\n",
    "y = np.array(y)\n",
    "plt.scatter(x, y)\n",
    "\n",
    "x = []\n",
    "y = []\n",
    "for p in mr: \n",
    "    x.append(p[0])\n",
    "    y.append(p[1])\n",
    "\n",
    "    \n",
    "x = np.array(x)\n",
    "y = np.array(y)\n",
    "plt.scatter(x, y)\n",
    "\n",
    "#day two, the age and speed of 15 cars:\n",
    "#x = np.array([2,2,8,1,15,8,12,9,7,3,11,4,7,14,12])\n",
    "#y = np.array([100,105,84,105,90,99,90,95,94,100,79,112,91,80,85])\n",
    "#plt.scatter(x, y)\n",
    "\n",
    "plt.show()"
   ]
  },
  {
   "cell_type": "code",
   "execution_count": null,
   "metadata": {},
   "outputs": [],
   "source": []
  }
 ],
 "metadata": {
  "kernelspec": {
   "display_name": "Python 3",
   "language": "python",
   "name": "python3"
  },
  "language_info": {
   "codemirror_mode": {
    "name": "ipython",
    "version": 3
   },
   "file_extension": ".py",
   "mimetype": "text/x-python",
   "name": "python",
   "nbconvert_exporter": "python",
   "pygments_lexer": "ipython3",
   "version": "3.8.5"
  }
 },
 "nbformat": 4,
 "nbformat_minor": 4
}
